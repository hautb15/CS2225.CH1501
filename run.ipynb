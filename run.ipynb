{
  "nbformat": 4,
  "nbformat_minor": 0,
  "metadata": {
    "colab": {
      "name": "run.ipynb",
      "provenance": [],
      "collapsed_sections": [],
      "include_colab_link": true
    },
    "kernelspec": {
      "name": "python3",
      "display_name": "Python 3"
    },
    "accelerator": "GPU"
  },
  "cells": [
    {
      "cell_type": "markdown",
      "metadata": {
        "id": "view-in-github",
        "colab_type": "text"
      },
      "source": [
        "<a href=\"https://colab.research.google.com/github/hautb15/CS2225.CH1501/blob/main/run.ipynb\" target=\"_parent\"><img src=\"https://colab.research.google.com/assets/colab-badge.svg\" alt=\"Open In Colab\"/></a>"
      ]
    },
    {
      "cell_type": "markdown",
      "metadata": {
        "id": "wXOFhRzGKLLn"
      },
      "source": [
        "**Clone github project**"
      ]
    },
    {
      "cell_type": "code",
      "metadata": {
        "colab": {
          "base_uri": "https://localhost:8080/"
        },
        "id": "5dy-TjzCIxXq",
        "outputId": "fbc5895b-6ce5-4fc6-88ba-288d37aa84c9"
      },
      "source": [
        "!git clone https://github.com/hautb15/CS2225.CH1501.git "
      ],
      "execution_count": 1,
      "outputs": [
        {
          "output_type": "stream",
          "text": [
            "Cloning into 'CS2225.CH1501'...\n",
            "remote: Enumerating objects: 54, done.\u001b[K\n",
            "remote: Counting objects: 100% (54/54), done.\u001b[K\n",
            "remote: Compressing objects: 100% (50/50), done.\u001b[K\n",
            "remote: Total 54 (delta 16), reused 22 (delta 3), pack-reused 0\u001b[K\n",
            "Unpacking objects: 100% (54/54), done.\n"
          ],
          "name": "stdout"
        }
      ]
    },
    {
      "cell_type": "markdown",
      "metadata": {
        "id": "2hAtobPnKQxi"
      },
      "source": [
        "**Định nghĩa lại dictionary để ánh xạ kết quả output**"
      ]
    },
    {
      "cell_type": "code",
      "metadata": {
        "id": "sSVSGw_eJy1s"
      },
      "source": [
        "labels = '''airplane\r\n",
        "automobile\r\n",
        "bird\r\n",
        "cat\r\n",
        "deer\r\n",
        "dog\r\n",
        "frog\r\n",
        "horse\r\n",
        "ship\r\n",
        "truck'''.split()"
      ],
      "execution_count": 2,
      "outputs": []
    },
    {
      "cell_type": "markdown",
      "metadata": {
        "id": "d0Komj7ZKZ5J"
      },
      "source": [
        "**Thực hiện nhận diện ảnh**"
      ]
    },
    {
      "cell_type": "code",
      "metadata": {
        "colab": {
          "base_uri": "https://localhost:8080/"
        },
        "id": "Jb40AhQ3Jnfd",
        "outputId": "ff130071-f894-446a-9159-167f70fd2e7e"
      },
      "source": [
        "#load the trained model to classify the images\r\n",
        "_DIR = '/content/CS2225.CH1501'\r\n",
        "from keras.models import load_model\r\n",
        "model = load_model(_DIR + '/model/final_model_improv3.h5')\r\n",
        "\r\n",
        "from PIL import Image\r\n",
        "import numpy as np\r\n",
        "im=Image.open(_DIR + \"/sampletest/airplane1.jpg\")\r\n",
        "\r\n",
        "# the input image is required to be in the shape of dataset, i.e (32,32,3)\r\n",
        " \r\n",
        "im=im.resize((32,32))\r\n",
        "im=np.expand_dims(im,axis=0)\r\n",
        "im=np.array(im)\r\n",
        "#pred=model.predict_classes([im])[0]\r\n",
        "pred=np.argmax(model.predict(im)[0], axis=-1)\r\n",
        "print(pred,labels[pred])"
      ],
      "execution_count": 3,
      "outputs": [
        {
          "output_type": "stream",
          "text": [
            "0 airplane\n"
          ],
          "name": "stdout"
        }
      ]
    },
    {
      "cell_type": "code",
      "metadata": {
        "id": "njihSMBSi-hR",
        "outputId": "532c543f-62a1-4408-b427-3b6735a9acce",
        "colab": {
          "base_uri": "https://localhost:8080/"
        }
      },
      "source": [
        "!pip install gtts"
      ],
      "execution_count": 6,
      "outputs": [
        {
          "output_type": "stream",
          "text": [
            "Requirement already satisfied: gtts in /usr/local/lib/python3.6/dist-packages (2.2.2)\n",
            "Requirement already satisfied: requests in /usr/local/lib/python3.6/dist-packages (from gtts) (2.23.0)\n",
            "Requirement already satisfied: six in /usr/local/lib/python3.6/dist-packages (from gtts) (1.15.0)\n",
            "Requirement already satisfied: click in /usr/local/lib/python3.6/dist-packages (from gtts) (7.1.2)\n",
            "Requirement already satisfied: chardet<4,>=3.0.2 in /usr/local/lib/python3.6/dist-packages (from requests->gtts) (3.0.4)\n",
            "Requirement already satisfied: urllib3!=1.25.0,!=1.25.1,<1.26,>=1.21.1 in /usr/local/lib/python3.6/dist-packages (from requests->gtts) (1.24.3)\n",
            "Requirement already satisfied: certifi>=2017.4.17 in /usr/local/lib/python3.6/dist-packages (from requests->gtts) (2020.12.5)\n",
            "Requirement already satisfied: idna<3,>=2.5 in /usr/local/lib/python3.6/dist-packages (from requests->gtts) (2.10)\n"
          ],
          "name": "stdout"
        }
      ]
    },
    {
      "cell_type": "code",
      "metadata": {
        "id": "HewwwJ5Wjbc3"
      },
      "source": [
        "from gtts import gTTS\r\n",
        "import os\r\n",
        "\r\n",
        "# define variables\r\n",
        "s = labels[pred]\r\n",
        "file_audio = \"file.wav\"\r\n",
        "\r\n",
        "# initialize tts, create mp3 and play\r\n",
        "tts = gTTS(s, 'en')\r\n",
        "tts.save(file_audio)\r\n",
        "\r\n"
      ],
      "execution_count": null,
      "outputs": []
    },
    {
      "cell_type": "code",
      "metadata": {
        "id": "UPa52JDQk3MK"
      },
      "source": [
        "!pip install pydub\r\n",
        "from pydub import AudioSegment\r\n",
        "from pydub.playback import play\r\n",
        "\r\n",
        "sound = AudioSegment.from_wav(\"file.wav\")\r\n",
        "play(sound)"
      ],
      "execution_count": null,
      "outputs": []
    }
  ]
}